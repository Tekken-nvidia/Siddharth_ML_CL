{
  "nbformat": 4,
  "nbformat_minor": 0,
  "metadata": {
    "colab": {
      "provenance": []
    },
    "kernelspec": {
      "name": "python3",
      "display_name": "Python 3"
    },
    "language_info": {
      "name": "python"
    }
  },
  "cells": [
    {
      "cell_type": "code",
      "execution_count": 113,
      "metadata": {
        "id": "XoJHrvjGbFjZ"
      },
      "outputs": [],
      "source": [
        "import numpy as np\n",
        "import math\n",
        "import pandas as pd\n",
        "import matplotlib.pyplot as plt\n",
        "%matplotlib inline"
      ]
    },
    {
      "cell_type": "code",
      "source": [
        "data = pd.read_csv('/content/drive/MyDrive/nn_train (1).csv')\n",
        "data"
      ],
      "metadata": {
        "colab": {
          "base_uri": "https://localhost:8080/",
          "height": 443
        },
        "id": "HDhVLxMtzwmK",
        "outputId": "1f2d1c19-12e6-45cc-f27a-7c5231d2366b"
      },
      "execution_count": 114,
      "outputs": [
        {
          "output_type": "execute_result",
          "data": {
            "text/plain": [
              "          ID  Feature_1  Feature_2  Feature_3  Feature_4  Feature_5  \\\n",
              "0          1         81        109         91         96        107   \n",
              "1          2        168        168        169        169        170   \n",
              "2          3         14         20         32          6         27   \n",
              "3          4         60        109        157        126         82   \n",
              "4          5         63         72         86         75         93   \n",
              "...      ...        ...        ...        ...        ...        ...   \n",
              "79995  79996         58         72         90         89         73   \n",
              "79996  79997        245        232        245        255        255   \n",
              "79997  79998          9         39         48         50         75   \n",
              "79998  79999        116        180        214        212        216   \n",
              "79999  80000        113        112        114        119        124   \n",
              "\n",
              "       Feature_6  Feature_7  Feature_8  Feature_9  ...  Feature_1017  \\\n",
              "0             97        103         95        100  ...           114   \n",
              "1            171        172        172        175  ...            44   \n",
              "2              6          5         34         15  ...            63   \n",
              "3             80         70         58         37  ...           105   \n",
              "4             77         75         67         62  ...           108   \n",
              "...          ...        ...        ...        ...  ...           ...   \n",
              "79995         68         68         59         61  ...            11   \n",
              "79996        255        252        250        251  ...            39   \n",
              "79997        104        133        164        184  ...             0   \n",
              "79998        219        215        218        221  ...            66   \n",
              "79999        125        127        128        140  ...           104   \n",
              "\n",
              "       Feature_1018  Feature_1019  Feature_1020  Feature_1021  Feature_1022  \\\n",
              "0                93            91            98            72            92   \n",
              "1                44            44            44            44            44   \n",
              "2                64            63            60            54            48   \n",
              "3               102            99            98           100           105   \n",
              "4               109           102           106            96            91   \n",
              "...             ...           ...           ...           ...           ...   \n",
              "79995             8             5             3             3             2   \n",
              "79996            36            37            37            38            42   \n",
              "79997             0             9             0             7            16   \n",
              "79998            75            70            67            66            86   \n",
              "79999           115           115           108           105           105   \n",
              "\n",
              "       Feature_1023  Feature_1024  binary_label  class_label  \n",
              "0                78            78             0            5  \n",
              "1                44            44             0            9  \n",
              "2                43            41             0            5  \n",
              "3               111           114             1            8  \n",
              "4               102            89             0            5  \n",
              "...             ...           ...           ...          ...  \n",
              "79995             1             0             1            1  \n",
              "79996            46            54             1           10  \n",
              "79997             9            24             0            2  \n",
              "79998            54            77             0           10  \n",
              "79999           121           146             1            1  \n",
              "\n",
              "[80000 rows x 1027 columns]"
            ],
            "text/html": [
              "\n",
              "  <div id=\"df-5a9b402c-5ca5-41ac-95b4-80fb04979247\" class=\"colab-df-container\">\n",
              "    <div>\n",
              "<style scoped>\n",
              "    .dataframe tbody tr th:only-of-type {\n",
              "        vertical-align: middle;\n",
              "    }\n",
              "\n",
              "    .dataframe tbody tr th {\n",
              "        vertical-align: top;\n",
              "    }\n",
              "\n",
              "    .dataframe thead th {\n",
              "        text-align: right;\n",
              "    }\n",
              "</style>\n",
              "<table border=\"1\" class=\"dataframe\">\n",
              "  <thead>\n",
              "    <tr style=\"text-align: right;\">\n",
              "      <th></th>\n",
              "      <th>ID</th>\n",
              "      <th>Feature_1</th>\n",
              "      <th>Feature_2</th>\n",
              "      <th>Feature_3</th>\n",
              "      <th>Feature_4</th>\n",
              "      <th>Feature_5</th>\n",
              "      <th>Feature_6</th>\n",
              "      <th>Feature_7</th>\n",
              "      <th>Feature_8</th>\n",
              "      <th>Feature_9</th>\n",
              "      <th>...</th>\n",
              "      <th>Feature_1017</th>\n",
              "      <th>Feature_1018</th>\n",
              "      <th>Feature_1019</th>\n",
              "      <th>Feature_1020</th>\n",
              "      <th>Feature_1021</th>\n",
              "      <th>Feature_1022</th>\n",
              "      <th>Feature_1023</th>\n",
              "      <th>Feature_1024</th>\n",
              "      <th>binary_label</th>\n",
              "      <th>class_label</th>\n",
              "    </tr>\n",
              "  </thead>\n",
              "  <tbody>\n",
              "    <tr>\n",
              "      <th>0</th>\n",
              "      <td>1</td>\n",
              "      <td>81</td>\n",
              "      <td>109</td>\n",
              "      <td>91</td>\n",
              "      <td>96</td>\n",
              "      <td>107</td>\n",
              "      <td>97</td>\n",
              "      <td>103</td>\n",
              "      <td>95</td>\n",
              "      <td>100</td>\n",
              "      <td>...</td>\n",
              "      <td>114</td>\n",
              "      <td>93</td>\n",
              "      <td>91</td>\n",
              "      <td>98</td>\n",
              "      <td>72</td>\n",
              "      <td>92</td>\n",
              "      <td>78</td>\n",
              "      <td>78</td>\n",
              "      <td>0</td>\n",
              "      <td>5</td>\n",
              "    </tr>\n",
              "    <tr>\n",
              "      <th>1</th>\n",
              "      <td>2</td>\n",
              "      <td>168</td>\n",
              "      <td>168</td>\n",
              "      <td>169</td>\n",
              "      <td>169</td>\n",
              "      <td>170</td>\n",
              "      <td>171</td>\n",
              "      <td>172</td>\n",
              "      <td>172</td>\n",
              "      <td>175</td>\n",
              "      <td>...</td>\n",
              "      <td>44</td>\n",
              "      <td>44</td>\n",
              "      <td>44</td>\n",
              "      <td>44</td>\n",
              "      <td>44</td>\n",
              "      <td>44</td>\n",
              "      <td>44</td>\n",
              "      <td>44</td>\n",
              "      <td>0</td>\n",
              "      <td>9</td>\n",
              "    </tr>\n",
              "    <tr>\n",
              "      <th>2</th>\n",
              "      <td>3</td>\n",
              "      <td>14</td>\n",
              "      <td>20</td>\n",
              "      <td>32</td>\n",
              "      <td>6</td>\n",
              "      <td>27</td>\n",
              "      <td>6</td>\n",
              "      <td>5</td>\n",
              "      <td>34</td>\n",
              "      <td>15</td>\n",
              "      <td>...</td>\n",
              "      <td>63</td>\n",
              "      <td>64</td>\n",
              "      <td>63</td>\n",
              "      <td>60</td>\n",
              "      <td>54</td>\n",
              "      <td>48</td>\n",
              "      <td>43</td>\n",
              "      <td>41</td>\n",
              "      <td>0</td>\n",
              "      <td>5</td>\n",
              "    </tr>\n",
              "    <tr>\n",
              "      <th>3</th>\n",
              "      <td>4</td>\n",
              "      <td>60</td>\n",
              "      <td>109</td>\n",
              "      <td>157</td>\n",
              "      <td>126</td>\n",
              "      <td>82</td>\n",
              "      <td>80</td>\n",
              "      <td>70</td>\n",
              "      <td>58</td>\n",
              "      <td>37</td>\n",
              "      <td>...</td>\n",
              "      <td>105</td>\n",
              "      <td>102</td>\n",
              "      <td>99</td>\n",
              "      <td>98</td>\n",
              "      <td>100</td>\n",
              "      <td>105</td>\n",
              "      <td>111</td>\n",
              "      <td>114</td>\n",
              "      <td>1</td>\n",
              "      <td>8</td>\n",
              "    </tr>\n",
              "    <tr>\n",
              "      <th>4</th>\n",
              "      <td>5</td>\n",
              "      <td>63</td>\n",
              "      <td>72</td>\n",
              "      <td>86</td>\n",
              "      <td>75</td>\n",
              "      <td>93</td>\n",
              "      <td>77</td>\n",
              "      <td>75</td>\n",
              "      <td>67</td>\n",
              "      <td>62</td>\n",
              "      <td>...</td>\n",
              "      <td>108</td>\n",
              "      <td>109</td>\n",
              "      <td>102</td>\n",
              "      <td>106</td>\n",
              "      <td>96</td>\n",
              "      <td>91</td>\n",
              "      <td>102</td>\n",
              "      <td>89</td>\n",
              "      <td>0</td>\n",
              "      <td>5</td>\n",
              "    </tr>\n",
              "    <tr>\n",
              "      <th>...</th>\n",
              "      <td>...</td>\n",
              "      <td>...</td>\n",
              "      <td>...</td>\n",
              "      <td>...</td>\n",
              "      <td>...</td>\n",
              "      <td>...</td>\n",
              "      <td>...</td>\n",
              "      <td>...</td>\n",
              "      <td>...</td>\n",
              "      <td>...</td>\n",
              "      <td>...</td>\n",
              "      <td>...</td>\n",
              "      <td>...</td>\n",
              "      <td>...</td>\n",
              "      <td>...</td>\n",
              "      <td>...</td>\n",
              "      <td>...</td>\n",
              "      <td>...</td>\n",
              "      <td>...</td>\n",
              "      <td>...</td>\n",
              "      <td>...</td>\n",
              "    </tr>\n",
              "    <tr>\n",
              "      <th>79995</th>\n",
              "      <td>79996</td>\n",
              "      <td>58</td>\n",
              "      <td>72</td>\n",
              "      <td>90</td>\n",
              "      <td>89</td>\n",
              "      <td>73</td>\n",
              "      <td>68</td>\n",
              "      <td>68</td>\n",
              "      <td>59</td>\n",
              "      <td>61</td>\n",
              "      <td>...</td>\n",
              "      <td>11</td>\n",
              "      <td>8</td>\n",
              "      <td>5</td>\n",
              "      <td>3</td>\n",
              "      <td>3</td>\n",
              "      <td>2</td>\n",
              "      <td>1</td>\n",
              "      <td>0</td>\n",
              "      <td>1</td>\n",
              "      <td>1</td>\n",
              "    </tr>\n",
              "    <tr>\n",
              "      <th>79996</th>\n",
              "      <td>79997</td>\n",
              "      <td>245</td>\n",
              "      <td>232</td>\n",
              "      <td>245</td>\n",
              "      <td>255</td>\n",
              "      <td>255</td>\n",
              "      <td>255</td>\n",
              "      <td>252</td>\n",
              "      <td>250</td>\n",
              "      <td>251</td>\n",
              "      <td>...</td>\n",
              "      <td>39</td>\n",
              "      <td>36</td>\n",
              "      <td>37</td>\n",
              "      <td>37</td>\n",
              "      <td>38</td>\n",
              "      <td>42</td>\n",
              "      <td>46</td>\n",
              "      <td>54</td>\n",
              "      <td>1</td>\n",
              "      <td>10</td>\n",
              "    </tr>\n",
              "    <tr>\n",
              "      <th>79997</th>\n",
              "      <td>79998</td>\n",
              "      <td>9</td>\n",
              "      <td>39</td>\n",
              "      <td>48</td>\n",
              "      <td>50</td>\n",
              "      <td>75</td>\n",
              "      <td>104</td>\n",
              "      <td>133</td>\n",
              "      <td>164</td>\n",
              "      <td>184</td>\n",
              "      <td>...</td>\n",
              "      <td>0</td>\n",
              "      <td>0</td>\n",
              "      <td>9</td>\n",
              "      <td>0</td>\n",
              "      <td>7</td>\n",
              "      <td>16</td>\n",
              "      <td>9</td>\n",
              "      <td>24</td>\n",
              "      <td>0</td>\n",
              "      <td>2</td>\n",
              "    </tr>\n",
              "    <tr>\n",
              "      <th>79998</th>\n",
              "      <td>79999</td>\n",
              "      <td>116</td>\n",
              "      <td>180</td>\n",
              "      <td>214</td>\n",
              "      <td>212</td>\n",
              "      <td>216</td>\n",
              "      <td>219</td>\n",
              "      <td>215</td>\n",
              "      <td>218</td>\n",
              "      <td>221</td>\n",
              "      <td>...</td>\n",
              "      <td>66</td>\n",
              "      <td>75</td>\n",
              "      <td>70</td>\n",
              "      <td>67</td>\n",
              "      <td>66</td>\n",
              "      <td>86</td>\n",
              "      <td>54</td>\n",
              "      <td>77</td>\n",
              "      <td>0</td>\n",
              "      <td>10</td>\n",
              "    </tr>\n",
              "    <tr>\n",
              "      <th>79999</th>\n",
              "      <td>80000</td>\n",
              "      <td>113</td>\n",
              "      <td>112</td>\n",
              "      <td>114</td>\n",
              "      <td>119</td>\n",
              "      <td>124</td>\n",
              "      <td>125</td>\n",
              "      <td>127</td>\n",
              "      <td>128</td>\n",
              "      <td>140</td>\n",
              "      <td>...</td>\n",
              "      <td>104</td>\n",
              "      <td>115</td>\n",
              "      <td>115</td>\n",
              "      <td>108</td>\n",
              "      <td>105</td>\n",
              "      <td>105</td>\n",
              "      <td>121</td>\n",
              "      <td>146</td>\n",
              "      <td>1</td>\n",
              "      <td>1</td>\n",
              "    </tr>\n",
              "  </tbody>\n",
              "</table>\n",
              "<p>80000 rows × 1027 columns</p>\n",
              "</div>\n",
              "    <div class=\"colab-df-buttons\">\n",
              "\n",
              "  <div class=\"colab-df-container\">\n",
              "    <button class=\"colab-df-convert\" onclick=\"convertToInteractive('df-5a9b402c-5ca5-41ac-95b4-80fb04979247')\"\n",
              "            title=\"Convert this dataframe to an interactive table.\"\n",
              "            style=\"display:none;\">\n",
              "\n",
              "  <svg xmlns=\"http://www.w3.org/2000/svg\" height=\"24px\" viewBox=\"0 -960 960 960\">\n",
              "    <path d=\"M120-120v-720h720v720H120Zm60-500h600v-160H180v160Zm220 220h160v-160H400v160Zm0 220h160v-160H400v160ZM180-400h160v-160H180v160Zm440 0h160v-160H620v160ZM180-180h160v-160H180v160Zm440 0h160v-160H620v160Z\"/>\n",
              "  </svg>\n",
              "    </button>\n",
              "\n",
              "  <style>\n",
              "    .colab-df-container {\n",
              "      display:flex;\n",
              "      gap: 12px;\n",
              "    }\n",
              "\n",
              "    .colab-df-convert {\n",
              "      background-color: #E8F0FE;\n",
              "      border: none;\n",
              "      border-radius: 50%;\n",
              "      cursor: pointer;\n",
              "      display: none;\n",
              "      fill: #1967D2;\n",
              "      height: 32px;\n",
              "      padding: 0 0 0 0;\n",
              "      width: 32px;\n",
              "    }\n",
              "\n",
              "    .colab-df-convert:hover {\n",
              "      background-color: #E2EBFA;\n",
              "      box-shadow: 0px 1px 2px rgba(60, 64, 67, 0.3), 0px 1px 3px 1px rgba(60, 64, 67, 0.15);\n",
              "      fill: #174EA6;\n",
              "    }\n",
              "\n",
              "    .colab-df-buttons div {\n",
              "      margin-bottom: 4px;\n",
              "    }\n",
              "\n",
              "    [theme=dark] .colab-df-convert {\n",
              "      background-color: #3B4455;\n",
              "      fill: #D2E3FC;\n",
              "    }\n",
              "\n",
              "    [theme=dark] .colab-df-convert:hover {\n",
              "      background-color: #434B5C;\n",
              "      box-shadow: 0px 1px 3px 1px rgba(0, 0, 0, 0.15);\n",
              "      filter: drop-shadow(0px 1px 2px rgba(0, 0, 0, 0.3));\n",
              "      fill: #FFFFFF;\n",
              "    }\n",
              "  </style>\n",
              "\n",
              "    <script>\n",
              "      const buttonEl =\n",
              "        document.querySelector('#df-5a9b402c-5ca5-41ac-95b4-80fb04979247 button.colab-df-convert');\n",
              "      buttonEl.style.display =\n",
              "        google.colab.kernel.accessAllowed ? 'block' : 'none';\n",
              "\n",
              "      async function convertToInteractive(key) {\n",
              "        const element = document.querySelector('#df-5a9b402c-5ca5-41ac-95b4-80fb04979247');\n",
              "        const dataTable =\n",
              "          await google.colab.kernel.invokeFunction('convertToInteractive',\n",
              "                                                    [key], {});\n",
              "        if (!dataTable) return;\n",
              "\n",
              "        const docLinkHtml = 'Like what you see? Visit the ' +\n",
              "          '<a target=\"_blank\" href=https://colab.research.google.com/notebooks/data_table.ipynb>data table notebook</a>'\n",
              "          + ' to learn more about interactive tables.';\n",
              "        element.innerHTML = '';\n",
              "        dataTable['output_type'] = 'display_data';\n",
              "        await google.colab.output.renderOutput(dataTable, element);\n",
              "        const docLink = document.createElement('div');\n",
              "        docLink.innerHTML = docLinkHtml;\n",
              "        element.appendChild(docLink);\n",
              "      }\n",
              "    </script>\n",
              "  </div>\n",
              "\n",
              "\n",
              "<div id=\"df-3e611ed8-9fad-4199-ad50-cbe090f2f960\">\n",
              "  <button class=\"colab-df-quickchart\" onclick=\"quickchart('df-3e611ed8-9fad-4199-ad50-cbe090f2f960')\"\n",
              "            title=\"Suggest charts\"\n",
              "            style=\"display:none;\">\n",
              "\n",
              "<svg xmlns=\"http://www.w3.org/2000/svg\" height=\"24px\"viewBox=\"0 0 24 24\"\n",
              "     width=\"24px\">\n",
              "    <g>\n",
              "        <path d=\"M19 3H5c-1.1 0-2 .9-2 2v14c0 1.1.9 2 2 2h14c1.1 0 2-.9 2-2V5c0-1.1-.9-2-2-2zM9 17H7v-7h2v7zm4 0h-2V7h2v10zm4 0h-2v-4h2v4z\"/>\n",
              "    </g>\n",
              "</svg>\n",
              "  </button>\n",
              "\n",
              "<style>\n",
              "  .colab-df-quickchart {\n",
              "      --bg-color: #E8F0FE;\n",
              "      --fill-color: #1967D2;\n",
              "      --hover-bg-color: #E2EBFA;\n",
              "      --hover-fill-color: #174EA6;\n",
              "      --disabled-fill-color: #AAA;\n",
              "      --disabled-bg-color: #DDD;\n",
              "  }\n",
              "\n",
              "  [theme=dark] .colab-df-quickchart {\n",
              "      --bg-color: #3B4455;\n",
              "      --fill-color: #D2E3FC;\n",
              "      --hover-bg-color: #434B5C;\n",
              "      --hover-fill-color: #FFFFFF;\n",
              "      --disabled-bg-color: #3B4455;\n",
              "      --disabled-fill-color: #666;\n",
              "  }\n",
              "\n",
              "  .colab-df-quickchart {\n",
              "    background-color: var(--bg-color);\n",
              "    border: none;\n",
              "    border-radius: 50%;\n",
              "    cursor: pointer;\n",
              "    display: none;\n",
              "    fill: var(--fill-color);\n",
              "    height: 32px;\n",
              "    padding: 0;\n",
              "    width: 32px;\n",
              "  }\n",
              "\n",
              "  .colab-df-quickchart:hover {\n",
              "    background-color: var(--hover-bg-color);\n",
              "    box-shadow: 0 1px 2px rgba(60, 64, 67, 0.3), 0 1px 3px 1px rgba(60, 64, 67, 0.15);\n",
              "    fill: var(--button-hover-fill-color);\n",
              "  }\n",
              "\n",
              "  .colab-df-quickchart-complete:disabled,\n",
              "  .colab-df-quickchart-complete:disabled:hover {\n",
              "    background-color: var(--disabled-bg-color);\n",
              "    fill: var(--disabled-fill-color);\n",
              "    box-shadow: none;\n",
              "  }\n",
              "\n",
              "  .colab-df-spinner {\n",
              "    border: 2px solid var(--fill-color);\n",
              "    border-color: transparent;\n",
              "    border-bottom-color: var(--fill-color);\n",
              "    animation:\n",
              "      spin 1s steps(1) infinite;\n",
              "  }\n",
              "\n",
              "  @keyframes spin {\n",
              "    0% {\n",
              "      border-color: transparent;\n",
              "      border-bottom-color: var(--fill-color);\n",
              "      border-left-color: var(--fill-color);\n",
              "    }\n",
              "    20% {\n",
              "      border-color: transparent;\n",
              "      border-left-color: var(--fill-color);\n",
              "      border-top-color: var(--fill-color);\n",
              "    }\n",
              "    30% {\n",
              "      border-color: transparent;\n",
              "      border-left-color: var(--fill-color);\n",
              "      border-top-color: var(--fill-color);\n",
              "      border-right-color: var(--fill-color);\n",
              "    }\n",
              "    40% {\n",
              "      border-color: transparent;\n",
              "      border-right-color: var(--fill-color);\n",
              "      border-top-color: var(--fill-color);\n",
              "    }\n",
              "    60% {\n",
              "      border-color: transparent;\n",
              "      border-right-color: var(--fill-color);\n",
              "    }\n",
              "    80% {\n",
              "      border-color: transparent;\n",
              "      border-right-color: var(--fill-color);\n",
              "      border-bottom-color: var(--fill-color);\n",
              "    }\n",
              "    90% {\n",
              "      border-color: transparent;\n",
              "      border-bottom-color: var(--fill-color);\n",
              "    }\n",
              "  }\n",
              "</style>\n",
              "\n",
              "  <script>\n",
              "    async function quickchart(key) {\n",
              "      const quickchartButtonEl =\n",
              "        document.querySelector('#' + key + ' button');\n",
              "      quickchartButtonEl.disabled = true;  // To prevent multiple clicks.\n",
              "      quickchartButtonEl.classList.add('colab-df-spinner');\n",
              "      try {\n",
              "        const charts = await google.colab.kernel.invokeFunction(\n",
              "            'suggestCharts', [key], {});\n",
              "      } catch (error) {\n",
              "        console.error('Error during call to suggestCharts:', error);\n",
              "      }\n",
              "      quickchartButtonEl.classList.remove('colab-df-spinner');\n",
              "      quickchartButtonEl.classList.add('colab-df-quickchart-complete');\n",
              "    }\n",
              "    (() => {\n",
              "      let quickchartButtonEl =\n",
              "        document.querySelector('#df-3e611ed8-9fad-4199-ad50-cbe090f2f960 button');\n",
              "      quickchartButtonEl.style.display =\n",
              "        google.colab.kernel.accessAllowed ? 'block' : 'none';\n",
              "    })();\n",
              "  </script>\n",
              "</div>\n",
              "\n",
              "  <div id=\"id_839bef31-6abf-47fa-8a32-8b8257b69453\">\n",
              "    <style>\n",
              "      .colab-df-generate {\n",
              "        background-color: #E8F0FE;\n",
              "        border: none;\n",
              "        border-radius: 50%;\n",
              "        cursor: pointer;\n",
              "        display: none;\n",
              "        fill: #1967D2;\n",
              "        height: 32px;\n",
              "        padding: 0 0 0 0;\n",
              "        width: 32px;\n",
              "      }\n",
              "\n",
              "      .colab-df-generate:hover {\n",
              "        background-color: #E2EBFA;\n",
              "        box-shadow: 0px 1px 2px rgba(60, 64, 67, 0.3), 0px 1px 3px 1px rgba(60, 64, 67, 0.15);\n",
              "        fill: #174EA6;\n",
              "      }\n",
              "\n",
              "      [theme=dark] .colab-df-generate {\n",
              "        background-color: #3B4455;\n",
              "        fill: #D2E3FC;\n",
              "      }\n",
              "\n",
              "      [theme=dark] .colab-df-generate:hover {\n",
              "        background-color: #434B5C;\n",
              "        box-shadow: 0px 1px 3px 1px rgba(0, 0, 0, 0.15);\n",
              "        filter: drop-shadow(0px 1px 2px rgba(0, 0, 0, 0.3));\n",
              "        fill: #FFFFFF;\n",
              "      }\n",
              "    </style>\n",
              "    <button class=\"colab-df-generate\" onclick=\"generateWithVariable('data')\"\n",
              "            title=\"Generate code using this dataframe.\"\n",
              "            style=\"display:none;\">\n",
              "\n",
              "  <svg xmlns=\"http://www.w3.org/2000/svg\" height=\"24px\"viewBox=\"0 0 24 24\"\n",
              "       width=\"24px\">\n",
              "    <path d=\"M7,19H8.4L18.45,9,17,7.55,7,17.6ZM5,21V16.75L18.45,3.32a2,2,0,0,1,2.83,0l1.4,1.43a1.91,1.91,0,0,1,.58,1.4,1.91,1.91,0,0,1-.58,1.4L9.25,21ZM18.45,9,17,7.55Zm-12,3A5.31,5.31,0,0,0,4.9,8.1,5.31,5.31,0,0,0,1,6.5,5.31,5.31,0,0,0,4.9,4.9,5.31,5.31,0,0,0,6.5,1,5.31,5.31,0,0,0,8.1,4.9,5.31,5.31,0,0,0,12,6.5,5.46,5.46,0,0,0,6.5,12Z\"/>\n",
              "  </svg>\n",
              "    </button>\n",
              "    <script>\n",
              "      (() => {\n",
              "      const buttonEl =\n",
              "        document.querySelector('#id_839bef31-6abf-47fa-8a32-8b8257b69453 button.colab-df-generate');\n",
              "      buttonEl.style.display =\n",
              "        google.colab.kernel.accessAllowed ? 'block' : 'none';\n",
              "\n",
              "      buttonEl.onclick = () => {\n",
              "        google.colab.notebook.generateWithVariable('data');\n",
              "      }\n",
              "      })();\n",
              "    </script>\n",
              "  </div>\n",
              "\n",
              "    </div>\n",
              "  </div>\n"
            ],
            "application/vnd.google.colaboratory.intrinsic+json": {
              "type": "dataframe",
              "variable_name": "data"
            }
          },
          "metadata": {},
          "execution_count": 114
        }
      ]
    },
    {
      "cell_type": "code",
      "source": [
        "plt.scatter(data.Feature_1,data.binary_label)\n",
        "plt.show()"
      ],
      "metadata": {
        "colab": {
          "base_uri": "https://localhost:8080/",
          "height": 430
        },
        "id": "0JHOl-QYkQT6",
        "outputId": "703dbb84-0313-462c-9d03-424225fcb718"
      },
      "execution_count": 115,
      "outputs": [
        {
          "output_type": "display_data",
          "data": {
            "text/plain": [
              "<Figure size 640x480 with 1 Axes>"
            ],
            "image/png": "[encoded data removed]"
          },
          "metadata": {}
        }
      ]
    },
    {
      "cell_type": "code",
      "source": [
        "plt.scatter(data.Feature_1,data.class_label)\n",
        "plt.show()"
      ],
      "metadata": {
        "colab": {
          "base_uri": "https://localhost:8080/",
          "height": 430
        },
        "id": "KC2UDDSVlEKV",
        "outputId": "1417fd7e-8bbd-4650-ab4c-9c53f38d08eb"
      },
      "execution_count": 116,
      "outputs": [
        {
          "output_type": "display_data",
          "data": {
            "text/plain": [
              "<Figure size 640x480 with 1 Axes>"
            ],
            "image/png": "[encoded data removed]"
          },
          "metadata": {}
        }
      ]
    },
    {
      "cell_type": "code",
      "source": [
        "data = np.array(data)"
      ],
      "metadata": {
        "id": "Ah6bI66pz5h_"
      },
      "execution_count": 117,
      "outputs": []
    },
    {
      "cell_type": "code",
      "source": [
        "def load_data(l):\n",
        "    dataset = pd.read_csv(l)\n",
        "    x_data = dataset.values[:, 1:-2]\n",
        "    y_data = dataset.values[:, -1].reshape(-1, 1)\n",
        "    return x_data, y_data\n",
        "X, Y = load_data('/content/drive/MyDrive/nn_train (1).csv')"
      ],
      "metadata": {
        "id": "j3D9BrDcZMXV"
      },
      "execution_count": 118,
      "outputs": []
    },
    {
      "cell_type": "code",
      "source": [
        "def normalise(X):\n",
        "    return X / X.max()\n",
        "\n",
        "X_normalised = normalise(X)"
      ],
      "metadata": {
        "id": "h0nsR42blQ0s"
      },
      "execution_count": 119,
      "outputs": []
    },
    {
      "cell_type": "code",
      "source": [
        "X.max() , X_normalised.max()"
      ],
      "metadata": {
        "colab": {
          "base_uri": "https://localhost:8080/"
        },
        "id": "ZRcIecPClUDf",
        "outputId": "897944ce-6734-4bfc-de9a-2ac9d4ff1c93"
      },
      "execution_count": 120,
      "outputs": [
        {
          "output_type": "execute_result",
          "data": {
            "text/plain": [
              "(255, 1.0)"
            ]
          },
          "metadata": {},
          "execution_count": 120
        }
      ]
    },
    {
      "cell_type": "code",
      "source": [
        "#train and cross-validation split\n",
        "def split(X,Y,s):\n",
        "    m=X.shape[0]\n",
        "    a=np.ceil(s*m).astype(int)\n",
        "    return(X[:a],Y[:a],X[a:],Y[a:])\n",
        "\n",
        "X_train,Y_train,X_cv,Y_cv = split(X_normalised,Y,0.8)"
      ],
      "metadata": {
        "id": "Z5UfsbLHJfhn"
      },
      "execution_count": 121,
      "outputs": []
    },
    {
      "cell_type": "code",
      "source": [
        "X_train.shape, Y_train.shape"
      ],
      "metadata": {
        "colab": {
          "base_uri": "https://localhost:8080/"
        },
        "id": "_d_72x3mKgks",
        "outputId": "18b4cb38-0231-440b-d097-d10a83a56b46"
      },
      "execution_count": 122,
      "outputs": [
        {
          "output_type": "execute_result",
          "data": {
            "text/plain": [
              "((64000, 1024), (64000, 1))"
            ]
          },
          "metadata": {},
          "execution_count": 122
        }
      ]
    },
    {
      "cell_type": "code",
      "source": [
        "X_cv.shape,Y_cv.shape"
      ],
      "metadata": {
        "colab": {
          "base_uri": "https://localhost:8080/"
        },
        "id": "Gz6eq3eDbCs1",
        "outputId": "a495e9f9-52bc-4a3b-bd81-28cbb44a39ad"
      },
      "execution_count": 123,
      "outputs": [
        {
          "output_type": "execute_result",
          "data": {
            "text/plain": [
              "((16000, 1024), (16000, 1))"
            ]
          },
          "metadata": {},
          "execution_count": 123
        }
      ]
    },
    {
      "cell_type": "code",
      "source": [
        "#one hot encoding the multiclass labels\n",
        "def onehotencode(Y,num_classes):\n",
        "    Y = Y.flatten()\n",
        "    m = Y.shape[0]\n",
        "    Y_n = np.zeros((m,num_classes))\n",
        "    for k in range(num_classes):\n",
        "        Y_n[:,k] = np.where(Y == k, 1, 0)\n",
        "    return Y_n"
      ],
      "metadata": {
        "id": "OMmxb_s2KgAl"
      },
      "execution_count": 124,
      "outputs": []
    },
    {
      "cell_type": "code",
      "source": [
        "#initialising the weights and biases\n",
        "def initialise(layers):\n",
        "    L = len(layers)\n",
        "    W,b = {}, {}\n",
        "    for l in range(1, L):\n",
        "        W[f\"W{l}\"] = np.random.randn(layers[l - 1], layers[l]) * np.sqrt(2 / layers[l - 1])\n",
        "        b[f\"b{l}\"] = np.zeros((1, layers[l]))\n",
        "    return W, b"
      ],
      "metadata": {
        "id": "EGVpYtAtKs60"
      },
      "execution_count": 125,
      "outputs": []
    },
    {
      "cell_type": "code",
      "source": [
        "A0 = X_train.shape[1]\n",
        "#---------A0,A1,A2\n",
        "Layers = [A0,128,10]\n",
        "W, b = initialise(Layers)"
      ],
      "metadata": {
        "id": "2b87FyOQKs3O"
      },
      "execution_count": 126,
      "outputs": []
    },
    {
      "cell_type": "code",
      "source": [
        "for weight, bias in zip(W.keys() , b.keys()):\n",
        "    print(f\"Shape of {weight} : {W[weight].shape} | Shape of {bias} : {b[bias].shape}\")"
      ],
      "metadata": {
        "colab": {
          "base_uri": "https://localhost:8080/"
        },
        "id": "LmuEc1feKs0q",
        "outputId": "ea6a2a89-7959-4555-cb02-2e5d6a502d70"
      },
      "execution_count": 127,
      "outputs": [
        {
          "output_type": "stream",
          "name": "stdout",
          "text": [
            "Shape of W1 : (1024, 128) | Shape of b1 : (1, 128)\n",
            "Shape of W2 : (128, 10) | Shape of b2 : (1, 10)\n"
          ]
        }
      ]
    },
    {
      "cell_type": "code",
      "source": [
        "def loss(y_true, y_pred):\n",
        "    m = y_true.shape[0]\n",
        "    loss = (-1 / m) * np.sum(y_true * np.log(y_pred + 1e-20))\n",
        "    return loss"
      ],
      "metadata": {
        "id": "AlYFxVHDKsx2"
      },
      "execution_count": 128,
      "outputs": []
    },
    {
      "cell_type": "code",
      "source": [
        "def forward_prop(X, W, b, layers):\n",
        "    activation = {}\n",
        "    activation[f\"A{0}\"] = X\n",
        "    for l in range(1,len(layers)):\n",
        "        z = np.dot(activation[f\"A{l-1}\"] , W[f\"W{l}\"]) + b[f\"b{l}\"]\n",
        "        if l == len(layers) - 1:\n",
        "            exp_z = np.exp(z - np.max(z, axis=1, keepdims=True))\n",
        "            out = exp_z / np.sum(exp_z, axis=1, keepdims=True)  #Softmax activation\n",
        "        else:\n",
        "            out = np.maximum(0, z)      #ReLU activation\n",
        "        activation[f\"A{l}\"] = out\n",
        "    return out, activation"
      ],
      "metadata": {
        "id": "5liWKdTBKsvW"
      },
      "execution_count": 129,
      "outputs": []
    },
    {
      "cell_type": "code",
      "source": [
        "y_pred, activation = forward_prop(X_train, W, b, Layers)"
      ],
      "metadata": {
        "id": "-qds97w6KssW"
      },
      "execution_count": 130,
      "outputs": []
    },
    {
      "cell_type": "code",
      "source": [
        "for a in activation.keys():\n",
        "    print(f\"Shape of {a} : {activation[a].shape}\")\n",
        "\n",
        "if y_pred is activation['A2'] and X_train is activation['A0'] :\n",
        "    print(\"correct implementation of forward propagation\")"
      ],
      "metadata": {
        "colab": {
          "base_uri": "https://localhost:8080/"
        },
        "id": "QAY9QI67LJVX",
        "outputId": "5ede861b-5be9-493d-91b7-8ff899e3ae22"
      },
      "execution_count": 131,
      "outputs": [
        {
          "output_type": "stream",
          "name": "stdout",
          "text": [
            "Shape of A0 : (64000, 1024)\n",
            "Shape of A1 : (64000, 128)\n",
            "Shape of A2 : (64000, 10)\n",
            "correct implementation of forward propagation\n"
          ]
        }
      ]
    },
    {
      "cell_type": "code",
      "source": [
        "Y_bin = onehotencode(Y_train,Layers[-1])"
      ],
      "metadata": {
        "id": "T10wjQBqLJI6"
      },
      "execution_count": 132,
      "outputs": []
    },
    {
      "cell_type": "code",
      "source": [
        "def backward_prop(X, Y_bin, y_pred, activation, W, layers):\n",
        "    m, n = Y_bin.shape\n",
        "    grads = {}\n",
        "    for i in reversed(range(1,len(layers))):\n",
        "        if i == len(layers) - 1:\n",
        "            dz = y_pred - Y_bin       #softmax derivative\n",
        "        else:\n",
        "            dz = (grads[f\"dA{i+1}\"] @ W[f\"W{i+1}\"].T) * np.where(activation[f\"A{i}\"] > 0, 1, 0)        #ReLU derivative\n",
        "        grads[f\"dA{i}\"] = dz\n",
        "        grads[f\"dW{i}\"] = (1 / m) * (activation[f\"A{i-1}\"].T @ dz)\n",
        "        grads[f\"db{i}\"] = (1 / m) * np.sum(dz, axis=0,keepdims=True)\n",
        "    return grads"
      ],
      "metadata": {
        "id": "tfV5RF0XKsnu"
      },
      "execution_count": 133,
      "outputs": []
    },
    {
      "cell_type": "code",
      "source": [
        "grads = backward_prop(X_train, Y_bin, y_pred, activation, W, Layers)"
      ],
      "metadata": {
        "id": "9H58RgOLLa5g"
      },
      "execution_count": 134,
      "outputs": []
    },
    {
      "cell_type": "code",
      "source": [
        "for grad in grads.keys():\n",
        "    print(f\"Shape of {grad} : {grads[grad].shape}\")"
      ],
      "metadata": {
        "colab": {
          "base_uri": "https://localhost:8080/"
        },
        "id": "lGbObDt-La11",
        "outputId": "0487a4b8-e93b-44ec-b315-1ae0f2bab7b1"
      },
      "execution_count": 135,
      "outputs": [
        {
          "output_type": "stream",
          "name": "stdout",
          "text": [
            "Shape of dA2 : (64000, 10)\n",
            "Shape of dW2 : (128, 10)\n",
            "Shape of db2 : (1, 10)\n",
            "Shape of dA1 : (64000, 128)\n",
            "Shape of dW1 : (1024, 128)\n",
            "Shape of db1 : (1, 128)\n"
          ]
        }
      ]
    },
    {
      "cell_type": "code",
      "source": [
        "def train(X, Y, W, b, layers, alpha, epochs):\n",
        "    cost, iterations = [],[]\n",
        "    Y_bin = onehotencode(Y,10)\n",
        "    for i in range(epochs):\n",
        "        y_pred, activations = forward_prop(X, W, b, layers)\n",
        "        grads = backward_prop(X, Y_bin, y_pred, activations, W, layers)\n",
        "\n",
        "        #gradient descent\n",
        "        for k in range(1,len(layers)):\n",
        "            W[f\"W{k}\"] -= alpha * grads[f\"dW{k}\"]\n",
        "            b[f\"b{k}\"] -= alpha * grads[f\"db{k}\"]\n",
        "\n",
        "        #loss calculation\n",
        "        cst = loss(Y_bin, y_pred)\n",
        "        cost.append(cst)\n",
        "        iterations.append(i)\n",
        "        if i % math.ceil(epochs / 10) == 0:\n",
        "            print(f\"Iteration {i:9d}, Cost: {cst}\")\n",
        "    return W, b, cost, iterations"
      ],
      "metadata": {
        "id": "8qX_uEoBLazS"
      },
      "execution_count": 136,
      "outputs": []
    },
    {
      "cell_type": "code",
      "source": [
        "alpha = 0.01\n",
        "epochs = 100\n",
        "print(f\"units = {Layers} alpha = {alpha} layers = {2} epochs = {epochs}\")\n",
        "W,b, loss_list, _ = train(X_train, Y_train, W, b, Layers, alpha, epochs)"
      ],
      "metadata": {
        "colab": {
          "base_uri": "https://localhost:8080/"
        },
        "id": "KLeH_eLELavn",
        "outputId": "434c7ca7-7d9e-4672-8b05-57e1cb7a2ea0"
      },
      "execution_count": 137,
      "outputs": [
        {
          "output_type": "stream",
          "name": "stdout",
          "text": [
            "units = [1024, 128, 10] alpha = 0.01 layers = 2 epochs = 100\n",
            "Iteration         0, Cost: 2.233207479440836\n",
            "Iteration        10, Cost: 2.040651327836795\n",
            "Iteration        20, Cost: 2.0099629399107295\n",
            "Iteration        30, Cost: 1.9908421070100593\n",
            "Iteration        40, Cost: 1.9761801446088334\n",
            "Iteration        50, Cost: 1.9638662164662766\n",
            "Iteration        60, Cost: 1.9528195358820117\n",
            "Iteration        70, Cost: 1.9426754505676511\n",
            "Iteration        80, Cost: 1.9333320986274958\n",
            "Iteration        90, Cost: 1.9247642252713644\n"
          ]
        }
      ]
    },
    {
      "cell_type": "code",
      "source": [
        "def predict(X, W, b, layers):\n",
        "    z,_ = forward_prop(X, W, b, layers)\n",
        "    predictions = np.argmax(z, axis=1)\n",
        "    return predictions"
      ],
      "metadata": {
        "id": "PQGI9tq4LatC"
      },
      "execution_count": 138,
      "outputs": []
    },
    {
      "cell_type": "code",
      "source": [
        "def f1_score(classes, y_train,y_predicted):\n",
        "    con_matrix = np.zeros((classes,classes),dtype=int)\n",
        "    for i, k in zip(y_train, y_predicted):\n",
        "        con_matrix[int(i),int(k)] += 1\n",
        "    df = pd.DataFrame(con_matrix)\n",
        "    precision = np.zeros(classes)\n",
        "    recall = np.zeros(classes)\n",
        "    f1 = np.zeros(classes)\n",
        "    for i in range(classes):\n",
        "        t_p = con_matrix[i, i]\n",
        "        f_p = np.sum(con_matrix[:, i]) - t_p\n",
        "        f_n = np.sum(con_matrix[i, :]) - t_p\n",
        "        precision[i] = t_p / (t_p + f_p) if (t_p + f_p) != 0 else 0\n",
        "        recall[i] = t_p / (t_p + f_n) if (t_p + f_n) != 0 else 0\n",
        "        f1[i] = 2 * (precision[i] * recall[i]) / (precision[i] + recall[i]) if (precision[i] + recall[i]) != 0 else 0\n",
        "    f1score = np.mean(f1)\n",
        "    return f1score, df"
      ],
      "metadata": {
        "id": "IyacNIRBM5Sl"
      },
      "execution_count": 139,
      "outputs": []
    },
    {
      "cell_type": "code",
      "source": [
        "def plot(cost,i_list):\n",
        "    plt.plot(i_list,cost,c=\"r\",label=\"cost\")\n",
        "    plt.xlabel(f\"iteration\")\n",
        "    plt.ylabel(\"cost\")\n",
        "    plt.legend()\n",
        "    plt.show()"
      ],
      "metadata": {
        "id": "yy0n4XrtM5Dt"
      },
      "execution_count": 140,
      "outputs": []
    },
    {
      "cell_type": "code",
      "source": [
        "plot(loss_list,_)"
      ],
      "metadata": {
        "colab": {
          "base_uri": "https://localhost:8080/",
          "height": 449
        },
        "id": "qTfuotL7NDxY",
        "outputId": "4406bb80-1d7c-4217-de32-7a8a0a9cec2d"
      },
      "execution_count": 141,
      "outputs": [
        {
          "output_type": "display_data",
          "data": {
            "text/plain": [
              "<Figure size 640x480 with 1 Axes>"
            ],
            "image/png": "[encoded data removed]"
          },
          "metadata": {}
        }
      ]
    },
    {
      "cell_type": "code",
      "source": [
        "accuracy = np.mean(y_pred == Y_cv)\n",
        "f1, confusion_matrix = f1_score(units[-1], Y_cv, y_pred)\n",
        "print(f\"Accuracy: {accuracy*100:.7f}%, F1 Score: {f1:.2f}\")\n",
        "print()\n",
        "print(\"confusion_matrix\")\n",
        "confusion_matrix"
      ],
      "metadata": {
        "colab": {
          "base_uri": "https://localhost:8080/",
          "height": 211
        },
        "id": "nI17DO34NDt-",
        "outputId": "0952790c-3634-4188-c634-a192a9911d60"
      },
      "execution_count": 143,
      "outputs": [
        {
          "output_type": "error",
          "ename": "ValueError",
          "evalue": "operands could not be broadcast together with shapes (64000,10) (16000,1) ",
          "traceback": [
            "\u001b[0;31m---------------------------------------------------------------------------\u001b[0m",
            "\u001b[0;31mValueError\u001b[0m                                Traceback (most recent call last)",
            "\u001b[0;32m<ipython-input-143-f155d70949a3>\u001b[0m in \u001b[0;36m<cell line: 1>\u001b[0;34m()\u001b[0m\n\u001b[0;32m----> 1\u001b[0;31m \u001b[0maccuracy\u001b[0m \u001b[0;34m=\u001b[0m \u001b[0mnp\u001b[0m\u001b[0;34m.\u001b[0m\u001b[0mmean\u001b[0m\u001b[0;34m(\u001b[0m\u001b[0my_pred\u001b[0m \u001b[0;34m==\u001b[0m \u001b[0mY_cv\u001b[0m\u001b[0;34m)\u001b[0m\u001b[0;34m\u001b[0m\u001b[0;34m\u001b[0m\u001b[0m\n\u001b[0m\u001b[1;32m      2\u001b[0m \u001b[0mf1\u001b[0m\u001b[0;34m,\u001b[0m \u001b[0mconfusion_matrix\u001b[0m \u001b[0;34m=\u001b[0m \u001b[0mf1_score\u001b[0m\u001b[0;34m(\u001b[0m\u001b[0munits\u001b[0m\u001b[0;34m[\u001b[0m\u001b[0;34m-\u001b[0m\u001b[0;36m1\u001b[0m\u001b[0;34m]\u001b[0m\u001b[0;34m,\u001b[0m \u001b[0mY_cv\u001b[0m\u001b[0;34m,\u001b[0m \u001b[0my_pred\u001b[0m\u001b[0;34m)\u001b[0m\u001b[0;34m\u001b[0m\u001b[0;34m\u001b[0m\u001b[0m\n\u001b[1;32m      3\u001b[0m \u001b[0mprint\u001b[0m\u001b[0;34m(\u001b[0m\u001b[0;34mf\"Accuracy: {accuracy*100:.7f}%, F1 Score: {f1:.2f}\"\u001b[0m\u001b[0;34m)\u001b[0m\u001b[0;34m\u001b[0m\u001b[0;34m\u001b[0m\u001b[0m\n\u001b[1;32m      4\u001b[0m \u001b[0mprint\u001b[0m\u001b[0;34m(\u001b[0m\u001b[0;34m)\u001b[0m\u001b[0;34m\u001b[0m\u001b[0;34m\u001b[0m\u001b[0m\n\u001b[1;32m      5\u001b[0m \u001b[0mprint\u001b[0m\u001b[0;34m(\u001b[0m\u001b[0;34m\"confusion_matrix\"\u001b[0m\u001b[0;34m)\u001b[0m\u001b[0;34m\u001b[0m\u001b[0;34m\u001b[0m\u001b[0m\n",
            "\u001b[0;31mValueError\u001b[0m: operands could not be broadcast together with shapes (64000,10) (16000,1) "
          ]
        }
      ]
    },
    {
      "cell_type": "code",
      "source": [],
      "metadata": {
        "id": "BkjYtIoUNDk6"
      },
      "execution_count": null,
      "outputs": []
    },
    {
      "cell_type": "code",
      "source": [],
      "metadata": {
        "id": "TsG6hPkqmNAz"
      },
      "execution_count": null,
      "outputs": []
    }
  ]
}